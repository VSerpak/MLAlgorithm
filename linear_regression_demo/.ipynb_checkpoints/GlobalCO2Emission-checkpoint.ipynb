{
 "cells": [
  {
   "cell_type": "code",
   "execution_count": 4,
   "metadata": {
    "collapsed": false
   },
   "outputs": [],
   "source": [
    "%matplotlib inline\n",
    "\n",
    "# Imports\n",
    "import matplotlib.pyplot as plt\n",
    "import matplotlib as mpl\n",
    "import pandas as pd\n",
    "#import seaborn as sns\n",
    "import sklearn\n",
    "import numpy as np"
   ]
  },
  {
   "cell_type": "code",
   "execution_count": 16,
   "metadata": {
    "collapsed": false
   },
   "outputs": [
    {
     "name": "stdout",
     "output_type": "stream",
     "text": [
      "   Year  Total  Gas Fuel  Liquid Fuel  Solid Fuel  Cement  Gas Flaring  \\\n",
      "0  1751      3         0            0           3       0            0   \n",
      "1  1752      3         0            0           3       0            0   \n",
      "2  1753      3         0            0           3       0            0   \n",
      "3  1754      3         0            0           3       0            0   \n",
      "4  1755      3         0            0           3       0            0   \n",
      "\n",
      "   Per Capita  \n",
      "0         NaN  \n",
      "1         NaN  \n",
      "2         NaN  \n",
      "3         NaN  \n",
      "4         NaN  \n",
      "    Source  Year    Mean\n",
      "0     GCAG  2015  0.8990\n",
      "1  GISTEMP  2015  0.8700\n",
      "2     GCAG  2014  0.7402\n",
      "3  GISTEMP  2014  0.7500\n",
      "4     GCAG  2013  0.6687\n"
     ]
    }
   ],
   "source": [
    "# Import data\n",
    "co2_df = pd.read_csv('input/global_co2.csv')\n",
    "temp_df = pd.read_csv('input/annual_temp.csv')\n",
    "print(co2_df.head())\n",
    "print(temp_df.head())\n",
    "#print(co2_df.columns=['Year','CO2'])"
   ]
  },
  {
   "cell_type": "code",
   "execution_count": 20,
   "metadata": {
    "collapsed": false
   },
   "outputs": [
    {
     "name": "stdout",
     "output_type": "stream",
     "text": [
      "    Year   CO2\n",
      "46  2006  8370\n",
      "47  2007  8566\n",
      "48  2008  8783\n",
      "49  2009  8740\n",
      "50  2010  9167\n"
     ]
    }
   ],
   "source": [
    "# Clean data\n",
    "co2_df = co2_df.ix[:,:2]                     # Keep only total CO2\n",
    "co2_df = co2_df.ix[co2_df['Year'] >= 1960]   # Keep only 1960 - 2010\n",
    "co2_df.columns=['Year','CO2']                # Rename columns\n",
    "co2_df = co2_df.reset_index(drop=True)                # Reset index\n",
    "print(co2_df.tail())\n"
   ]
  },
  {
   "cell_type": "code",
   "execution_count": null,
   "metadata": {
    "collapsed": true
   },
   "outputs": [],
   "source": []
  }
 ],
 "metadata": {
  "anaconda-cloud": {},
  "kernelspec": {
   "display_name": "Python [conda root]",
   "language": "python",
   "name": "conda-root-py"
  },
  "language_info": {
   "codemirror_mode": {
    "name": "ipython",
    "version": 3
   },
   "file_extension": ".py",
   "mimetype": "text/x-python",
   "name": "python",
   "nbconvert_exporter": "python",
   "pygments_lexer": "ipython3",
   "version": "3.5.2"
  }
 },
 "nbformat": 4,
 "nbformat_minor": 1
}
