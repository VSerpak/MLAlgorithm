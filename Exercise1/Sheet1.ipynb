{
 "cells": [
  {
   "cell_type": "markdown",
   "metadata": {},
   "source": [
    "# Machine Learning in Life Scicence WS 2016 - 2017\n",
    "## Exercise 1 - Dataset  \n",
    "a) Create a dataset in R^2 with two classes (positive with target 1 and negative with target 0). Consider 100 datapoints for each class. Let the instances for each class be sampled from a bivariate Gaussian distribution with the same variance."
   ]
  },
  {
   "cell_type": "code",
   "execution_count": 1,
   "metadata": {
    "collapsed": false
   },
   "outputs": [
    {
     "name": "stdout",
     "output_type": "stream",
     "text": [
      "Help on built-in function min in module builtins:\n",
      "\n",
      "min(...)\n",
      "    min(iterable, *[, default=obj, key=func]) -> value\n",
      "    min(arg1, arg2, *args, *[, key=func]) -> value\n",
      "    \n",
      "    With a single iterable argument, return its smallest item. The\n",
      "    default keyword-only argument specifies an object to return if\n",
      "    the provided iterable is empty.\n",
      "    With two or more arguments, return the smallest argument.\n",
      "\n",
      "[3, 4, 5, 6, 8, 10, 9, 12, 15]\n",
      "[2, 3]\n",
      "[1, 1, 1, 1, 1, 1, 1, 1, 1, 1]\n"
     ]
    }
   ],
   "source": [
    "# Implementation taken from the sklearn website:\n",
    "# https://docs.scipy.org/doc/numpy/reference/generated/numpy.random.multivariate_normal.html\n",
    "help (min)\n",
    "\n",
    "lst1 = [1, 2, 3]\n",
    "lst2 = [3, 4, 5]\n",
    "print ( [x * y for x in lst1 for y in lst2])\n",
    "\n",
    "print ([x for x in lst1 if 4 > x > 1])\n",
    "print ( [1] * 10)"
   ]
  },
  {
   "cell_type": "code",
   "execution_count": 47,
   "metadata": {
    "collapsed": false
   },
   "outputs": [],
   "source": [
    "# Importing numpy and matplotlib\n",
    "\n",
    "import numpy as np\n",
    "import matplotlib.pyplot as plt\n"
   ]
  },
  {
   "cell_type": "markdown",
   "metadata": {},
   "source": [
    "## Multivariate "
   ]
  },
  {
   "cell_type": "code",
   "execution_count": 258,
   "metadata": {
    "collapsed": false
   },
   "outputs": [],
   "source": [
    "#Settings\n",
    "## Creating dataset here, 100 data points \n",
    "# numpy.random.multivariate_normal(mean, cov[size])\n",
    "# Draw random samples from multivariate normal distribution\n",
    "mean = [0, 0]\n",
    "cov = [[0.7,0.5 ], [0.5, 0.5]] # diagonal variance \n",
    "n = 100 # number of points \n",
    "#Diagonal covariance means that points are oriented along x or y-axis"
   ]
  },
  {
   "cell_type": "code",
   "execution_count": 283,
   "metadata": {
    "collapsed": false
   },
   "outputs": [],
   "source": [
    "#Example taking from the website of sklearn\n",
    "# Here we are considering \"X\" is for multivariate\n",
    "\n",
    "x = np.random.multivariate_normal(mean, cov, n )\n",
    "y = []\n",
    "\n",
    "for (x1,x2) in x:\n",
    "    if x1 >= 0 and x2 >= 0:\n",
    "        y.append(1)\n",
    "    else:\n",
    "        y.append(0)\n",
    "\n"
   ]
  },
  {
   "cell_type": "code",
   "execution_count": 284,
   "metadata": {
    "collapsed": true
   },
   "outputs": [],
   "source": [
    "# Before plotting separate +ve and -ve values\n",
    "\n",
    "positive = [ (x1,x2) for (x1,x2) in x if x1 >= 0 and x2 >= 0]\n",
    "negative = [ (x1,x2) for (x1,x2) in x if x1 < 0 or x2 < 0 ]\n",
    "\n",
    "#print(positive)\n",
    "#print (len(positive))\n",
    "\n",
    "positive= np.asarray(positive)\n",
    "size =  int(positive.size/2)\n",
    "positive= positive.reshape(size,2)\n",
    "\n",
    "\n",
    "negative= np.asarray(negative)\n",
    "size =  int(negative.size/2)\n",
    "negative= negative.reshape(size,2)"
   ]
  },
  {
   "cell_type": "code",
   "execution_count": 285,
   "metadata": {
    "collapsed": false
   },
   "outputs": [
    {
     "data": {
      "image/png": "[encoded data removed]",
      "text/plain": [
       "<matplotlib.figure.Figure at 0xbbebfd0>"
      ]
     },
     "metadata": {},
     "output_type": "display_data"
    }
   ],
   "source": [
    "plt.scatter(positive[:,0], positive[:,1], color='black')\n",
    "#plt.plot(testX, predictY, color='blue', linewidth=3)\n",
    "plt.scatter(negative[:,0], negative[:,1], color='red')\n",
    "\n",
    "\n",
    "plt.axis('equal')\n",
    "plt.show()"
   ]
  },
  {
   "cell_type": "code",
   "execution_count": 260,
   "metadata": {
    "collapsed": true
   },
   "outputs": [],
   "source": [
    "#Apply Linear Model on different type of distributions\n",
    "# Split the data into training/testing sets\n",
    "trainX =x[:-20] # take 80 sample dataset as a Training\n",
    "testX = x[-20:] # take 20 sample datset for testing\n",
    "\n",
    "\n",
    "# Split target also into training/ testing sets\n",
    "trainY =  y[:-20]\n",
    "testY =   y[-20:]\n"
   ]
  },
  {
   "cell_type": "code",
   "execution_count": 315,
   "metadata": {
    "collapsed": false
   },
   "outputs": [
    {
     "name": "stdout",
     "output_type": "stream",
     "text": [
      "Linear Model Starts Here:\n",
      "Coefficients: [ 0.16842704  0.29452319]\n",
      "Mean squared error: 0.01\n",
      "Variance score: 0.44\n",
      "[-0.91088519  0.1127529   2.08309086  0.68707837 -0.04944565 -0.5216278\n",
      " -0.07126586 -0.16279254  1.72563972 -0.67908315  0.22209536 -0.11313057\n",
      " -0.92382073  0.18224839 -0.54606634  0.49430849 -0.27184737  0.10277378\n",
      " -2.0913773  -0.41146571]\n"
     ]
    }
   ],
   "source": [
    "from sklearn import linear_model\n",
    "\n",
    "#Using Linear Model \n",
    "print ('Linear Model Starts Here:')\n",
    "\n",
    "#Intialize\n",
    "regr = linear_model.LinearRegression()\n",
    "\n",
    "\n",
    "# Fit\n",
    "regr.fit(trainX, trainY);\n",
    "\n",
    "# The Coefficients\n",
    "print ('Coefficients:', regr.coef_)\n",
    "\n",
    "#Predict\n",
    "predictY = regr.predict(testX)\n",
    "\n",
    "\n",
    "#The mean squared error\n",
    "print(\"Mean squared error: %.2f\" % np.mean((predictY) - testY) **2  ) # (y^ - y)^2\n",
    "\n",
    "#Explained variance score: 1 is perfect\n",
    "print ('Variance score: %.2f' % regr.score(testX, testY))\n",
    "\n",
    "\n",
    "\n"
   ]
  },
  {
   "cell_type": "markdown",
   "metadata": {},
   "source": [
    "#### This is because we are drawing it in 2d, must be drawn in 3D for better visualization"
   ]
  },
  {
   "cell_type": "code",
   "execution_count": 317,
   "metadata": {
    "collapsed": false
   },
   "outputs": [
    {
     "data": {
      "image/png": "[encoded data removed]",
      "text/plain": [
       "<matplotlib.figure.Figure at 0xaa93e48>"
      ]
     },
     "metadata": {},
     "output_type": "display_data"
    }
   ],
   "source": [
    "# This is because we are drawing it in 2d, must be drawn in 3D for better visualization\n",
    "# Plot outputs\n",
    "plt.scatter(testX[:,0], testY,  color='black')\n",
    "plt.plot(testX[:,0], predictY, color='blue',\n",
    "         linewidth=3)\n",
    "\n",
    "plt.xticks(())\n",
    "plt.yticks(())\n",
    "\n",
    "plt.show()\n",
    "\n"
   ]
  },
  {
   "cell_type": "markdown",
   "metadata": {},
   "source": [
    "## Exercise 2 - Linear Model\n",
    "a) Write the code to compute a Linear classification model. Apply it to the dataset created in Exercise 1. Plot the predicted class for a regular grid in R^2. "
   ]
  },
  {
   "cell_type": "markdown",
   "metadata": {},
   "source": [
    "## Exercise 3 - kNN Model\n",
    "a) Write the code to compute a KNN model. Apply it to the dataset created in Exercise 1. Plot the predicted class for a regular grid in R^2. "
   ]
  },
  {
   "cell_type": "code",
   "execution_count": 65,
   "metadata": {
    "collapsed": false
   },
   "outputs": [],
   "source": [
    "from sklearn import neighbors\n",
    "\n",
    "for weights in ['uniform', 'distance']:\n",
    "    clf = neighbors.KNeighborsClassifier(2, weights=weights)\n",
    "   # clf.fit(trainX,trainY)\n",
    "\n",
    "\n"
   ]
  }
 ],
 "metadata": {
  "anaconda-cloud": {},
  "kernelspec": {
   "display_name": "Python [default]",
   "language": "python",
   "name": "python3"
  },
  "language_info": {
   "codemirror_mode": {
    "name": "ipython",
    "version": 3
   },
   "file_extension": ".py",
   "mimetype": "text/x-python",
   "name": "python",
   "nbconvert_exporter": "python",
   "pygments_lexer": "ipython3",
   "version": "3.5.2"
  }
 },
 "nbformat": 4,
 "nbformat_minor": 1
}
