{
 "cells": [
  {
   "cell_type": "code",
   "execution_count": null,
   "metadata": {
    "collapsed": true
   },
   "outputs": [],
   "source": []
  },
  {
   "cell_type": "code",
   "execution_count": 12,
   "metadata": {
    "collapsed": false
   },
   "outputs": [
    {
     "name": "stdout",
     "output_type": "stream",
     "text": [
      "myvar: 5\n",
      "4\n"
     ]
    }
   ],
   "source": [
    "#Setting variable\n",
    "myvar = 3\n",
    "myvar += 2\n",
    "print(\"myvar:\", myvar) # Print value of myvar\n",
    "\n",
    "\n",
    "sample = [1, [\"another\" , \"list\"] , (\"a\" , \"tupple\")] \n",
    "mylist = [\"List item 1\" , 2,3,4]\n",
    "mylist[0] = \"List item change\"\n",
    "mylist[-1] = 3.21\n",
    "mydict = {\"Key1\" : \"Value 1\" , 2: 3 , \"pi\" : 3.14}\n",
    "mydict[\"pi\"]\n",
    "mytuple = (1,2,3)\n",
    "myfunction = len\n",
    "\n",
    "print (myfunction(mylist))"
   ]
  },
  {
   "cell_type": "code",
   "execution_count": null,
   "metadata": {
    "collapsed": true
   },
   "outputs": [],
   "source": [
    "mylist = [\"List item 1\", 2, 3.14]\n",
    "print (mylist[0:2])"
   ]
  }
 ],
 "metadata": {
  "anaconda-cloud": {},
  "kernelspec": {
   "display_name": "Python [conda root]",
   "language": "python",
   "name": "conda-root-py"
  },
  "language_info": {
   "codemirror_mode": {
    "name": "ipython",
    "version": 3
   },
   "file_extension": ".py",
   "mimetype": "text/x-python",
   "name": "python",
   "nbconvert_exporter": "python",
   "pygments_lexer": "ipython3",
   "version": "3.5.2"
  }
 },
 "nbformat": 4,
 "nbformat_minor": 1
}
